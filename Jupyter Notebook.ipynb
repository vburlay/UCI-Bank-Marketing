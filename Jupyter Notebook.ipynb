{
 "cells": [
  {
   "cell_type": "markdown",
   "id": "63f77bcf",
   "metadata": {},
   "source": [
    "# Bank Marketing <img src=\"./images/dataset-cover.PNG\" width=\"400\"  align=\"right\"/> \n",
    "The data is related with direct marketing campaigns (phone calls) of a Portuguese banking institution. The classification goal is to predict if the client will subscribe a term deposit (variable y).\n",
    "\n",
    "The following information is drawn from the UCI Machine Learning Repository: https://archive.ics.uci.edu/ml/datasets/bank+marketing"
   ]
  },
  {
   "cell_type": "markdown",
   "id": "f7fb9703",
   "metadata": {},
   "source": [
    "# Outline\n",
    "- [ 1 - Packages ](#1)\n",
    "- [ 2 - Preparing Data for Analysis](#2)\n",
    "  - [ 2.1 Dataload Dataset](#2.1)\n",
    "  - [ 2.2 Feuture engineering](#2.2)\n",
    "  - [ 2.3 Scaling & Encoding](#2.3)\n",
    "- [ 3 - Principal Component Analysis](#3)\n",
    "- [ 4 - Modeling](#4)\n",
    "  - [ 4.1 Logistic regression](#4.1)\n",
    "  - [ 4.2 Boosted trees - XGBoost](#4.2)\n",
    "  - [ 4.2 Recall (Logistic regression & XGBoost)](#4.3)  \n",
    "- [ 5 - Evaluation of Machine Learning](#5)  \n",
    "- [ 6 - Neural Networks](#6)\n",
    "- [ 7 - Evaluation of Neural Networks](#7) "
   ]
  },
  {
   "cell_type": "markdown",
   "id": "2a794926",
   "metadata": {},
   "source": [
    "<a name=\"1\"></a>\n",
    "## Packages\n",
    "\n",
    "* Machine Learning - Unsupervised Learning (PCA, k-means-clustering)\n",
    "* Machine Learning - Supervised Learning (Logistic regression, XGBooster)\n",
    "* Tensorflow and Keras - Convolutional neural network"
   ]
  },
  {
   "cell_type": "code",
   "execution_count": 27,
   "id": "6f4ea68d",
   "metadata": {},
   "outputs": [],
   "source": [
    "import os\n",
    "import pandas as pd\n",
    "import numpy as np\n",
    "import matplotlib.pyplot as plt\n",
    "import seaborn as sns\n",
    "from sklearn import preprocessing\n",
    "from sklearn.decomposition import PCA\n",
    "from sklearn.model_selection import train_test_split\n",
    "import matplotlib.colors as mc\n",
    "from mpl_toolkits.mplot3d import Axes3D\n",
    "%matplotlib inline\n",
    "plt.style.use('./deeplearning.mplstyle')\n",
    "from sklearn.linear_model import LogisticRegression\n",
    "from sklearn.cluster import KMeans\n",
    "from sklearn.model_selection import  cross_val_predict\n",
    "from sklearn.metrics import roc_curve\n",
    "from xgboost import XGBClassifier\n",
    "import keras\n",
    "from lib.utils_common import *\n",
    "from lib.cnn_keras import build_model, k_fold\n",
    "from joblib import dump, load"
   ]
  },
  {
   "cell_type": "markdown",
   "id": "e513c94b",
   "metadata": {},
   "source": [
    "<a name=\"2\"></a>\n",
    "## Preparing Data for Analysis"
   ]
  },
  {
   "cell_type": "code",
   "execution_count": 2,
   "id": "66d3e8ed",
   "metadata": {},
   "outputs": [],
   "source": [
    "path_lr = os.getcwd() + '\\models\\log_reg.joblib'\n",
    "path_xgb = os.getcwd() + '\\models\\log_xgb.joblib'"
   ]
  },
  {
   "cell_type": "markdown",
   "id": "bda25853",
   "metadata": {},
   "source": [
    "<a name=\"2.1\"></a>\n",
    "### Dataload Dataset"
   ]
  },
  {
   "cell_type": "code",
   "execution_count": 3,
   "id": "a37d6cfe",
   "metadata": {},
   "outputs": [
    {
     "data": {
      "text/html": [
       "<div>\n",
       "<style scoped>\n",
       "    .dataframe tbody tr th:only-of-type {\n",
       "        vertical-align: middle;\n",
       "    }\n",
       "\n",
       "    .dataframe tbody tr th {\n",
       "        vertical-align: top;\n",
       "    }\n",
       "\n",
       "    .dataframe thead th {\n",
       "        text-align: right;\n",
       "    }\n",
       "</style>\n",
       "<table border=\"1\" class=\"dataframe\">\n",
       "  <thead>\n",
       "    <tr style=\"text-align: right;\">\n",
       "      <th></th>\n",
       "      <th>age</th>\n",
       "      <th>job</th>\n",
       "      <th>marital</th>\n",
       "      <th>education</th>\n",
       "      <th>default</th>\n",
       "      <th>housing</th>\n",
       "      <th>loan</th>\n",
       "      <th>contact</th>\n",
       "      <th>month</th>\n",
       "      <th>day_of_week</th>\n",
       "      <th>...</th>\n",
       "      <th>campaign</th>\n",
       "      <th>pdays</th>\n",
       "      <th>previous</th>\n",
       "      <th>poutcome</th>\n",
       "      <th>emp.var.rate</th>\n",
       "      <th>cons.price.idx</th>\n",
       "      <th>cons.conf.idx</th>\n",
       "      <th>euribor3m</th>\n",
       "      <th>nr.employed</th>\n",
       "      <th>y</th>\n",
       "    </tr>\n",
       "  </thead>\n",
       "  <tbody>\n",
       "    <tr>\n",
       "      <th>0</th>\n",
       "      <td>56</td>\n",
       "      <td>housemaid</td>\n",
       "      <td>married</td>\n",
       "      <td>basic.4y</td>\n",
       "      <td>no</td>\n",
       "      <td>no</td>\n",
       "      <td>no</td>\n",
       "      <td>telephone</td>\n",
       "      <td>may</td>\n",
       "      <td>mon</td>\n",
       "      <td>...</td>\n",
       "      <td>1</td>\n",
       "      <td>999</td>\n",
       "      <td>0</td>\n",
       "      <td>nonexistent</td>\n",
       "      <td>1.1</td>\n",
       "      <td>93.994</td>\n",
       "      <td>-36.4</td>\n",
       "      <td>4.857</td>\n",
       "      <td>5191.0</td>\n",
       "      <td>no</td>\n",
       "    </tr>\n",
       "    <tr>\n",
       "      <th>1</th>\n",
       "      <td>57</td>\n",
       "      <td>services</td>\n",
       "      <td>married</td>\n",
       "      <td>high.school</td>\n",
       "      <td>unknown</td>\n",
       "      <td>no</td>\n",
       "      <td>no</td>\n",
       "      <td>telephone</td>\n",
       "      <td>may</td>\n",
       "      <td>mon</td>\n",
       "      <td>...</td>\n",
       "      <td>1</td>\n",
       "      <td>999</td>\n",
       "      <td>0</td>\n",
       "      <td>nonexistent</td>\n",
       "      <td>1.1</td>\n",
       "      <td>93.994</td>\n",
       "      <td>-36.4</td>\n",
       "      <td>4.857</td>\n",
       "      <td>5191.0</td>\n",
       "      <td>no</td>\n",
       "    </tr>\n",
       "    <tr>\n",
       "      <th>2</th>\n",
       "      <td>37</td>\n",
       "      <td>services</td>\n",
       "      <td>married</td>\n",
       "      <td>high.school</td>\n",
       "      <td>no</td>\n",
       "      <td>yes</td>\n",
       "      <td>no</td>\n",
       "      <td>telephone</td>\n",
       "      <td>may</td>\n",
       "      <td>mon</td>\n",
       "      <td>...</td>\n",
       "      <td>1</td>\n",
       "      <td>999</td>\n",
       "      <td>0</td>\n",
       "      <td>nonexistent</td>\n",
       "      <td>1.1</td>\n",
       "      <td>93.994</td>\n",
       "      <td>-36.4</td>\n",
       "      <td>4.857</td>\n",
       "      <td>5191.0</td>\n",
       "      <td>no</td>\n",
       "    </tr>\n",
       "    <tr>\n",
       "      <th>3</th>\n",
       "      <td>40</td>\n",
       "      <td>admin.</td>\n",
       "      <td>married</td>\n",
       "      <td>basic.6y</td>\n",
       "      <td>no</td>\n",
       "      <td>no</td>\n",
       "      <td>no</td>\n",
       "      <td>telephone</td>\n",
       "      <td>may</td>\n",
       "      <td>mon</td>\n",
       "      <td>...</td>\n",
       "      <td>1</td>\n",
       "      <td>999</td>\n",
       "      <td>0</td>\n",
       "      <td>nonexistent</td>\n",
       "      <td>1.1</td>\n",
       "      <td>93.994</td>\n",
       "      <td>-36.4</td>\n",
       "      <td>4.857</td>\n",
       "      <td>5191.0</td>\n",
       "      <td>no</td>\n",
       "    </tr>\n",
       "    <tr>\n",
       "      <th>4</th>\n",
       "      <td>56</td>\n",
       "      <td>services</td>\n",
       "      <td>married</td>\n",
       "      <td>high.school</td>\n",
       "      <td>no</td>\n",
       "      <td>no</td>\n",
       "      <td>yes</td>\n",
       "      <td>telephone</td>\n",
       "      <td>may</td>\n",
       "      <td>mon</td>\n",
       "      <td>...</td>\n",
       "      <td>1</td>\n",
       "      <td>999</td>\n",
       "      <td>0</td>\n",
       "      <td>nonexistent</td>\n",
       "      <td>1.1</td>\n",
       "      <td>93.994</td>\n",
       "      <td>-36.4</td>\n",
       "      <td>4.857</td>\n",
       "      <td>5191.0</td>\n",
       "      <td>no</td>\n",
       "    </tr>\n",
       "  </tbody>\n",
       "</table>\n",
       "<p>5 rows × 21 columns</p>\n",
       "</div>"
      ],
      "text/plain": [
       "   age        job  marital    education  default housing loan    contact  \\\n",
       "0   56  housemaid  married     basic.4y       no      no   no  telephone   \n",
       "1   57   services  married  high.school  unknown      no   no  telephone   \n",
       "2   37   services  married  high.school       no     yes   no  telephone   \n",
       "3   40     admin.  married     basic.6y       no      no   no  telephone   \n",
       "4   56   services  married  high.school       no      no  yes  telephone   \n",
       "\n",
       "  month day_of_week  ...  campaign  pdays  previous     poutcome emp.var.rate  \\\n",
       "0   may         mon  ...         1    999         0  nonexistent          1.1   \n",
       "1   may         mon  ...         1    999         0  nonexistent          1.1   \n",
       "2   may         mon  ...         1    999         0  nonexistent          1.1   \n",
       "3   may         mon  ...         1    999         0  nonexistent          1.1   \n",
       "4   may         mon  ...         1    999         0  nonexistent          1.1   \n",
       "\n",
       "   cons.price.idx  cons.conf.idx  euribor3m  nr.employed   y  \n",
       "0          93.994          -36.4      4.857       5191.0  no  \n",
       "1          93.994          -36.4      4.857       5191.0  no  \n",
       "2          93.994          -36.4      4.857       5191.0  no  \n",
       "3          93.994          -36.4      4.857       5191.0  no  \n",
       "4          93.994          -36.4      4.857       5191.0  no  \n",
       "\n",
       "[5 rows x 21 columns]"
      ]
     },
     "execution_count": 3,
     "metadata": {},
     "output_type": "execute_result"
    }
   ],
   "source": [
    "data  = pd.read_csv(\"data/bank-additional-full.csv\", sep = \";\",keep_default_na = False)\n",
    "data.head()"
   ]
  },
  {
   "cell_type": "code",
   "execution_count": 4,
   "id": "ecd08966",
   "metadata": {},
   "outputs": [
    {
     "data": {
      "text/plain": [
       "age                 int64\n",
       "job                object\n",
       "marital            object\n",
       "education          object\n",
       "default            object\n",
       "housing            object\n",
       "loan               object\n",
       "contact            object\n",
       "month              object\n",
       "day_of_week        object\n",
       "duration            int64\n",
       "campaign            int64\n",
       "pdays               int64\n",
       "previous            int64\n",
       "poutcome           object\n",
       "emp.var.rate      float64\n",
       "cons.price.idx    float64\n",
       "cons.conf.idx     float64\n",
       "euribor3m         float64\n",
       "nr.employed       float64\n",
       "y                  object\n",
       "dtype: object"
      ]
     },
     "execution_count": 4,
     "metadata": {},
     "output_type": "execute_result"
    }
   ],
   "source": [
    "data.dtypes"
   ]
  },
  {
   "cell_type": "code",
   "execution_count": 5,
   "id": "cfc326ef",
   "metadata": {},
   "outputs": [
    {
     "data": {
      "text/plain": [
       "age               False\n",
       "job               False\n",
       "marital           False\n",
       "education         False\n",
       "default           False\n",
       "housing           False\n",
       "loan              False\n",
       "contact           False\n",
       "month             False\n",
       "day_of_week       False\n",
       "duration          False\n",
       "campaign          False\n",
       "pdays             False\n",
       "previous          False\n",
       "poutcome          False\n",
       "emp.var.rate      False\n",
       "cons.price.idx    False\n",
       "cons.conf.idx     False\n",
       "euribor3m         False\n",
       "nr.employed       False\n",
       "y                 False\n",
       "dtype: bool"
      ]
     },
     "execution_count": 5,
     "metadata": {},
     "output_type": "execute_result"
    }
   ],
   "source": [
    "data.isnull().any()"
   ]
  },
  {
   "cell_type": "code",
   "execution_count": 6,
   "id": "0c87b8ba",
   "metadata": {},
   "outputs": [
    {
     "data": {
      "text/html": [
       "<div>\n",
       "<style scoped>\n",
       "    .dataframe tbody tr th:only-of-type {\n",
       "        vertical-align: middle;\n",
       "    }\n",
       "\n",
       "    .dataframe tbody tr th {\n",
       "        vertical-align: top;\n",
       "    }\n",
       "\n",
       "    .dataframe thead th {\n",
       "        text-align: right;\n",
       "    }\n",
       "</style>\n",
       "<table border=\"1\" class=\"dataframe\">\n",
       "  <thead>\n",
       "    <tr style=\"text-align: right;\">\n",
       "      <th></th>\n",
       "      <th>age</th>\n",
       "      <th>job</th>\n",
       "      <th>marital</th>\n",
       "      <th>education</th>\n",
       "      <th>default</th>\n",
       "      <th>housing</th>\n",
       "      <th>loan</th>\n",
       "      <th>contact</th>\n",
       "      <th>month</th>\n",
       "      <th>day_of_week</th>\n",
       "      <th>...</th>\n",
       "      <th>campaign</th>\n",
       "      <th>pdays</th>\n",
       "      <th>previous</th>\n",
       "      <th>poutcome</th>\n",
       "      <th>emp.var.rate</th>\n",
       "      <th>cons.price.idx</th>\n",
       "      <th>cons.conf.idx</th>\n",
       "      <th>euribor3m</th>\n",
       "      <th>nr.employed</th>\n",
       "      <th>y</th>\n",
       "    </tr>\n",
       "  </thead>\n",
       "  <tbody>\n",
       "    <tr>\n",
       "      <th>count</th>\n",
       "      <td>41188.00000</td>\n",
       "      <td>41188</td>\n",
       "      <td>41188</td>\n",
       "      <td>41188</td>\n",
       "      <td>41188</td>\n",
       "      <td>41188</td>\n",
       "      <td>41188</td>\n",
       "      <td>41188</td>\n",
       "      <td>41188</td>\n",
       "      <td>41188</td>\n",
       "      <td>...</td>\n",
       "      <td>41188.000000</td>\n",
       "      <td>41188.000000</td>\n",
       "      <td>41188.000000</td>\n",
       "      <td>41188</td>\n",
       "      <td>41188.000000</td>\n",
       "      <td>41188.000000</td>\n",
       "      <td>41188.000000</td>\n",
       "      <td>41188.000000</td>\n",
       "      <td>41188.000000</td>\n",
       "      <td>41188</td>\n",
       "    </tr>\n",
       "    <tr>\n",
       "      <th>unique</th>\n",
       "      <td>NaN</td>\n",
       "      <td>12</td>\n",
       "      <td>4</td>\n",
       "      <td>8</td>\n",
       "      <td>3</td>\n",
       "      <td>3</td>\n",
       "      <td>3</td>\n",
       "      <td>2</td>\n",
       "      <td>10</td>\n",
       "      <td>5</td>\n",
       "      <td>...</td>\n",
       "      <td>NaN</td>\n",
       "      <td>NaN</td>\n",
       "      <td>NaN</td>\n",
       "      <td>3</td>\n",
       "      <td>NaN</td>\n",
       "      <td>NaN</td>\n",
       "      <td>NaN</td>\n",
       "      <td>NaN</td>\n",
       "      <td>NaN</td>\n",
       "      <td>2</td>\n",
       "    </tr>\n",
       "    <tr>\n",
       "      <th>top</th>\n",
       "      <td>NaN</td>\n",
       "      <td>admin.</td>\n",
       "      <td>married</td>\n",
       "      <td>university.degree</td>\n",
       "      <td>no</td>\n",
       "      <td>yes</td>\n",
       "      <td>no</td>\n",
       "      <td>cellular</td>\n",
       "      <td>may</td>\n",
       "      <td>thu</td>\n",
       "      <td>...</td>\n",
       "      <td>NaN</td>\n",
       "      <td>NaN</td>\n",
       "      <td>NaN</td>\n",
       "      <td>nonexistent</td>\n",
       "      <td>NaN</td>\n",
       "      <td>NaN</td>\n",
       "      <td>NaN</td>\n",
       "      <td>NaN</td>\n",
       "      <td>NaN</td>\n",
       "      <td>no</td>\n",
       "    </tr>\n",
       "    <tr>\n",
       "      <th>freq</th>\n",
       "      <td>NaN</td>\n",
       "      <td>10422</td>\n",
       "      <td>24928</td>\n",
       "      <td>12168</td>\n",
       "      <td>32588</td>\n",
       "      <td>21576</td>\n",
       "      <td>33950</td>\n",
       "      <td>26144</td>\n",
       "      <td>13769</td>\n",
       "      <td>8623</td>\n",
       "      <td>...</td>\n",
       "      <td>NaN</td>\n",
       "      <td>NaN</td>\n",
       "      <td>NaN</td>\n",
       "      <td>35563</td>\n",
       "      <td>NaN</td>\n",
       "      <td>NaN</td>\n",
       "      <td>NaN</td>\n",
       "      <td>NaN</td>\n",
       "      <td>NaN</td>\n",
       "      <td>36548</td>\n",
       "    </tr>\n",
       "    <tr>\n",
       "      <th>mean</th>\n",
       "      <td>40.02406</td>\n",
       "      <td>NaN</td>\n",
       "      <td>NaN</td>\n",
       "      <td>NaN</td>\n",
       "      <td>NaN</td>\n",
       "      <td>NaN</td>\n",
       "      <td>NaN</td>\n",
       "      <td>NaN</td>\n",
       "      <td>NaN</td>\n",
       "      <td>NaN</td>\n",
       "      <td>...</td>\n",
       "      <td>2.567593</td>\n",
       "      <td>962.475454</td>\n",
       "      <td>0.172963</td>\n",
       "      <td>NaN</td>\n",
       "      <td>0.081886</td>\n",
       "      <td>93.575664</td>\n",
       "      <td>-40.502600</td>\n",
       "      <td>3.621291</td>\n",
       "      <td>5167.035911</td>\n",
       "      <td>NaN</td>\n",
       "    </tr>\n",
       "    <tr>\n",
       "      <th>std</th>\n",
       "      <td>10.42125</td>\n",
       "      <td>NaN</td>\n",
       "      <td>NaN</td>\n",
       "      <td>NaN</td>\n",
       "      <td>NaN</td>\n",
       "      <td>NaN</td>\n",
       "      <td>NaN</td>\n",
       "      <td>NaN</td>\n",
       "      <td>NaN</td>\n",
       "      <td>NaN</td>\n",
       "      <td>...</td>\n",
       "      <td>2.770014</td>\n",
       "      <td>186.910907</td>\n",
       "      <td>0.494901</td>\n",
       "      <td>NaN</td>\n",
       "      <td>1.570960</td>\n",
       "      <td>0.578840</td>\n",
       "      <td>4.628198</td>\n",
       "      <td>1.734447</td>\n",
       "      <td>72.251528</td>\n",
       "      <td>NaN</td>\n",
       "    </tr>\n",
       "    <tr>\n",
       "      <th>min</th>\n",
       "      <td>17.00000</td>\n",
       "      <td>NaN</td>\n",
       "      <td>NaN</td>\n",
       "      <td>NaN</td>\n",
       "      <td>NaN</td>\n",
       "      <td>NaN</td>\n",
       "      <td>NaN</td>\n",
       "      <td>NaN</td>\n",
       "      <td>NaN</td>\n",
       "      <td>NaN</td>\n",
       "      <td>...</td>\n",
       "      <td>1.000000</td>\n",
       "      <td>0.000000</td>\n",
       "      <td>0.000000</td>\n",
       "      <td>NaN</td>\n",
       "      <td>-3.400000</td>\n",
       "      <td>92.201000</td>\n",
       "      <td>-50.800000</td>\n",
       "      <td>0.634000</td>\n",
       "      <td>4963.600000</td>\n",
       "      <td>NaN</td>\n",
       "    </tr>\n",
       "    <tr>\n",
       "      <th>25%</th>\n",
       "      <td>32.00000</td>\n",
       "      <td>NaN</td>\n",
       "      <td>NaN</td>\n",
       "      <td>NaN</td>\n",
       "      <td>NaN</td>\n",
       "      <td>NaN</td>\n",
       "      <td>NaN</td>\n",
       "      <td>NaN</td>\n",
       "      <td>NaN</td>\n",
       "      <td>NaN</td>\n",
       "      <td>...</td>\n",
       "      <td>1.000000</td>\n",
       "      <td>999.000000</td>\n",
       "      <td>0.000000</td>\n",
       "      <td>NaN</td>\n",
       "      <td>-1.800000</td>\n",
       "      <td>93.075000</td>\n",
       "      <td>-42.700000</td>\n",
       "      <td>1.344000</td>\n",
       "      <td>5099.100000</td>\n",
       "      <td>NaN</td>\n",
       "    </tr>\n",
       "    <tr>\n",
       "      <th>50%</th>\n",
       "      <td>38.00000</td>\n",
       "      <td>NaN</td>\n",
       "      <td>NaN</td>\n",
       "      <td>NaN</td>\n",
       "      <td>NaN</td>\n",
       "      <td>NaN</td>\n",
       "      <td>NaN</td>\n",
       "      <td>NaN</td>\n",
       "      <td>NaN</td>\n",
       "      <td>NaN</td>\n",
       "      <td>...</td>\n",
       "      <td>2.000000</td>\n",
       "      <td>999.000000</td>\n",
       "      <td>0.000000</td>\n",
       "      <td>NaN</td>\n",
       "      <td>1.100000</td>\n",
       "      <td>93.749000</td>\n",
       "      <td>-41.800000</td>\n",
       "      <td>4.857000</td>\n",
       "      <td>5191.000000</td>\n",
       "      <td>NaN</td>\n",
       "    </tr>\n",
       "    <tr>\n",
       "      <th>75%</th>\n",
       "      <td>47.00000</td>\n",
       "      <td>NaN</td>\n",
       "      <td>NaN</td>\n",
       "      <td>NaN</td>\n",
       "      <td>NaN</td>\n",
       "      <td>NaN</td>\n",
       "      <td>NaN</td>\n",
       "      <td>NaN</td>\n",
       "      <td>NaN</td>\n",
       "      <td>NaN</td>\n",
       "      <td>...</td>\n",
       "      <td>3.000000</td>\n",
       "      <td>999.000000</td>\n",
       "      <td>0.000000</td>\n",
       "      <td>NaN</td>\n",
       "      <td>1.400000</td>\n",
       "      <td>93.994000</td>\n",
       "      <td>-36.400000</td>\n",
       "      <td>4.961000</td>\n",
       "      <td>5228.100000</td>\n",
       "      <td>NaN</td>\n",
       "    </tr>\n",
       "    <tr>\n",
       "      <th>max</th>\n",
       "      <td>98.00000</td>\n",
       "      <td>NaN</td>\n",
       "      <td>NaN</td>\n",
       "      <td>NaN</td>\n",
       "      <td>NaN</td>\n",
       "      <td>NaN</td>\n",
       "      <td>NaN</td>\n",
       "      <td>NaN</td>\n",
       "      <td>NaN</td>\n",
       "      <td>NaN</td>\n",
       "      <td>...</td>\n",
       "      <td>56.000000</td>\n",
       "      <td>999.000000</td>\n",
       "      <td>7.000000</td>\n",
       "      <td>NaN</td>\n",
       "      <td>1.400000</td>\n",
       "      <td>94.767000</td>\n",
       "      <td>-26.900000</td>\n",
       "      <td>5.045000</td>\n",
       "      <td>5228.100000</td>\n",
       "      <td>NaN</td>\n",
       "    </tr>\n",
       "  </tbody>\n",
       "</table>\n",
       "<p>11 rows × 21 columns</p>\n",
       "</div>"
      ],
      "text/plain": [
       "                age     job  marital          education default housing  \\\n",
       "count   41188.00000   41188    41188              41188   41188   41188   \n",
       "unique          NaN      12        4                  8       3       3   \n",
       "top             NaN  admin.  married  university.degree      no     yes   \n",
       "freq            NaN   10422    24928              12168   32588   21576   \n",
       "mean       40.02406     NaN      NaN                NaN     NaN     NaN   \n",
       "std        10.42125     NaN      NaN                NaN     NaN     NaN   \n",
       "min        17.00000     NaN      NaN                NaN     NaN     NaN   \n",
       "25%        32.00000     NaN      NaN                NaN     NaN     NaN   \n",
       "50%        38.00000     NaN      NaN                NaN     NaN     NaN   \n",
       "75%        47.00000     NaN      NaN                NaN     NaN     NaN   \n",
       "max        98.00000     NaN      NaN                NaN     NaN     NaN   \n",
       "\n",
       "         loan   contact  month day_of_week  ...      campaign         pdays  \\\n",
       "count   41188     41188  41188       41188  ...  41188.000000  41188.000000   \n",
       "unique      3         2     10           5  ...           NaN           NaN   \n",
       "top        no  cellular    may         thu  ...           NaN           NaN   \n",
       "freq    33950     26144  13769        8623  ...           NaN           NaN   \n",
       "mean      NaN       NaN    NaN         NaN  ...      2.567593    962.475454   \n",
       "std       NaN       NaN    NaN         NaN  ...      2.770014    186.910907   \n",
       "min       NaN       NaN    NaN         NaN  ...      1.000000      0.000000   \n",
       "25%       NaN       NaN    NaN         NaN  ...      1.000000    999.000000   \n",
       "50%       NaN       NaN    NaN         NaN  ...      2.000000    999.000000   \n",
       "75%       NaN       NaN    NaN         NaN  ...      3.000000    999.000000   \n",
       "max       NaN       NaN    NaN         NaN  ...     56.000000    999.000000   \n",
       "\n",
       "            previous     poutcome  emp.var.rate  cons.price.idx  \\\n",
       "count   41188.000000        41188  41188.000000    41188.000000   \n",
       "unique           NaN            3           NaN             NaN   \n",
       "top              NaN  nonexistent           NaN             NaN   \n",
       "freq             NaN        35563           NaN             NaN   \n",
       "mean        0.172963          NaN      0.081886       93.575664   \n",
       "std         0.494901          NaN      1.570960        0.578840   \n",
       "min         0.000000          NaN     -3.400000       92.201000   \n",
       "25%         0.000000          NaN     -1.800000       93.075000   \n",
       "50%         0.000000          NaN      1.100000       93.749000   \n",
       "75%         0.000000          NaN      1.400000       93.994000   \n",
       "max         7.000000          NaN      1.400000       94.767000   \n",
       "\n",
       "        cons.conf.idx     euribor3m   nr.employed      y  \n",
       "count    41188.000000  41188.000000  41188.000000  41188  \n",
       "unique            NaN           NaN           NaN      2  \n",
       "top               NaN           NaN           NaN     no  \n",
       "freq              NaN           NaN           NaN  36548  \n",
       "mean       -40.502600      3.621291   5167.035911    NaN  \n",
       "std          4.628198      1.734447     72.251528    NaN  \n",
       "min        -50.800000      0.634000   4963.600000    NaN  \n",
       "25%        -42.700000      1.344000   5099.100000    NaN  \n",
       "50%        -41.800000      4.857000   5191.000000    NaN  \n",
       "75%        -36.400000      4.961000   5228.100000    NaN  \n",
       "max        -26.900000      5.045000   5228.100000    NaN  \n",
       "\n",
       "[11 rows x 21 columns]"
      ]
     },
     "execution_count": 6,
     "metadata": {},
     "output_type": "execute_result"
    }
   ],
   "source": [
    "data.describe(include = 'all')"
   ]
  },
  {
   "cell_type": "markdown",
   "id": "27b143ec",
   "metadata": {},
   "source": [
    "<a name=\"2.2\"></a>\n",
    "## Feuture engineering"
   ]
  },
  {
   "cell_type": "code",
   "execution_count": 7,
   "id": "37d44f1c",
   "metadata": {},
   "outputs": [
    {
     "name": "stdout",
     "output_type": "stream",
     "text": [
      "0.0\n",
      "0.0\n"
     ]
    }
   ],
   "source": [
    "# Check for missings\n",
    "print(len(data.columns[data.isna().any()])/len(data.columns))\n",
    "print(data.isnull().sum().sum()/np.product(data.shape))"
   ]
  },
  {
   "cell_type": "code",
   "execution_count": 8,
   "id": "3b199c25",
   "metadata": {},
   "outputs": [
    {
     "data": {
      "image/png": "[encoded data removed]",
      "text/plain": [
       "<Figure size 1080x720 with 2 Axes>"
      ]
     },
     "metadata": {},
     "output_type": "display_data"
    }
   ],
   "source": [
    "corrMatrix = data.corr()\n",
    "plt.figure(figsize=(15,10))\n",
    "sns.heatmap(corrMatrix, annot=True)\n",
    "plt.show()"
   ]
  },
  {
   "cell_type": "code",
   "execution_count": 4,
   "id": "b3fcc457",
   "metadata": {},
   "outputs": [],
   "source": [
    "y_data = data['y']\n",
    "X_data = data.drop(['y'],axis = 1)"
   ]
  },
  {
   "cell_type": "markdown",
   "id": "cd176af3",
   "metadata": {},
   "source": [
    "<a name=\"2.3\"></a>\n",
    "## Scaling & Encoding"
   ]
  },
  {
   "cell_type": "code",
   "execution_count": 5,
   "id": "0aea1eae",
   "metadata": {},
   "outputs": [],
   "source": [
    "X_data = pd.get_dummies(X_data) # Encoding"
   ]
  },
  {
   "cell_type": "code",
   "execution_count": 6,
   "id": "0b8d26d2",
   "metadata": {},
   "outputs": [],
   "source": [
    "mm_scale = preprocessing.MinMaxScaler() # Scaling\n",
    "X_data[X_data.columns] = mm_scale.fit_transform(X_data[X_data.columns])"
   ]
  },
  {
   "cell_type": "code",
   "execution_count": null,
   "id": "b6ea6a94",
   "metadata": {},
   "outputs": [],
   "source": [
    "#mm_scale = preprocessing.Normalizer().fit(X_data)\n",
    "#X_data[X_data.columns] = mm_scale.fit_transform(X_data[X_data.columns])"
   ]
  },
  {
   "cell_type": "code",
   "execution_count": 8,
   "id": "b0a3085c",
   "metadata": {},
   "outputs": [],
   "source": [
    "def y_val(x):\n",
    "    if x == 'no':\n",
    "        return 0\n",
    "    elif x == 'yes':\n",
    "        return 1\n",
    "y_data = y_data.apply(y_val)    "
   ]
  },
  {
   "cell_type": "code",
   "execution_count": 9,
   "id": "a4f3a7af",
   "metadata": {},
   "outputs": [],
   "source": [
    "# Split the data for training and test\n",
    "X_train, X_test, y_train, y_test = train_test_split(X_data, y_data,\n",
    "                                                    test_size = 0.35,\n",
    "                                                    random_state = 42)"
   ]
  },
  {
   "cell_type": "markdown",
   "id": "548cb869",
   "metadata": {},
   "source": [
    "<a name=\"3\"></a>\n",
    "## Principal Component Analysis"
   ]
  },
  {
   "cell_type": "code",
   "execution_count": 14,
   "id": "db0b0557",
   "metadata": {},
   "outputs": [
    {
     "data": {
      "text/plain": [
       "((26772, 3), (14416, 3))"
      ]
     },
     "execution_count": 14,
     "metadata": {},
     "output_type": "execute_result"
    }
   ],
   "source": [
    "# PCA\n",
    "#Train data\n",
    "from sklearn.decomposition import PCA\n",
    "pca = PCA(n_components = 3)\n",
    "X_train_reduced = pca.fit_transform(X_train)\n",
    "# Test Data\n",
    "pca = PCA(n_components = 3)\n",
    "X_test_reduced = pca.fit_transform(X_test)\n",
    "X_train_reduced.shape,X_test_reduced.shape"
   ]
  },
  {
   "cell_type": "code",
   "execution_count": 15,
   "id": "6e6ef592",
   "metadata": {},
   "outputs": [
    {
     "name": "stdout",
     "output_type": "stream",
     "text": [
      "[0.73899811 0.47961682 0.43938506]\n",
      "[0.12050623 0.07820969 0.07164922]\n"
     ]
    }
   ],
   "source": [
    "print(pca.explained_variance_)                                    # absolute values\n",
    "print(pca.explained_variance_ratio_)                              # percentage values"
   ]
  },
  {
   "cell_type": "markdown",
   "id": "7db57a80",
   "metadata": {},
   "source": [
    "<a name=\"4\"></a>\n",
    "## Modeling"
   ]
  },
  {
   "cell_type": "markdown",
   "id": "82ba0c57",
   "metadata": {},
   "source": [
    "<a name=\"4.1\"></a>\n",
    "### Logistic regression"
   ]
  },
  {
   "cell_type": "code",
   "execution_count": 16,
   "id": "c971ddf0",
   "metadata": {},
   "outputs": [
    {
     "data": {
      "image/png": "[encoded data removed]",
      "text/plain": [
       "<Figure size 648x216 with 1 Axes>"
      ]
     },
     "metadata": {},
     "output_type": "display_data"
    }
   ],
   "source": [
    "log_reg_func()"
   ]
  },
  {
   "cell_type": "code",
   "execution_count": 19,
   "id": "851533a6",
   "metadata": {},
   "outputs": [],
   "source": [
    "log_reg = LogisticRegression(multi_class = 'ovr',\n",
    "             class_weight = None, \n",
    "             solver= 'saga', \n",
    "             max_iter = 10000)"
   ]
  },
  {
   "cell_type": "code",
   "execution_count": 20,
   "id": "f955667d",
   "metadata": {},
   "outputs": [
    {
     "data": {
      "text/html": [
       "<style>#sk-container-id-1 {color: black;background-color: white;}#sk-container-id-1 pre{padding: 0;}#sk-container-id-1 div.sk-toggleable {background-color: white;}#sk-container-id-1 label.sk-toggleable__label {cursor: pointer;display: block;width: 100%;margin-bottom: 0;padding: 0.3em;box-sizing: border-box;text-align: center;}#sk-container-id-1 label.sk-toggleable__label-arrow:before {content: \"▸\";float: left;margin-right: 0.25em;color: #696969;}#sk-container-id-1 label.sk-toggleable__label-arrow:hover:before {color: black;}#sk-container-id-1 div.sk-estimator:hover label.sk-toggleable__label-arrow:before {color: black;}#sk-container-id-1 div.sk-toggleable__content {max-height: 0;max-width: 0;overflow: hidden;text-align: left;background-color: #f0f8ff;}#sk-container-id-1 div.sk-toggleable__content pre {margin: 0.2em;color: black;border-radius: 0.25em;background-color: #f0f8ff;}#sk-container-id-1 input.sk-toggleable__control:checked~div.sk-toggleable__content {max-height: 200px;max-width: 100%;overflow: auto;}#sk-container-id-1 input.sk-toggleable__control:checked~label.sk-toggleable__label-arrow:before {content: \"▾\";}#sk-container-id-1 div.sk-estimator input.sk-toggleable__control:checked~label.sk-toggleable__label {background-color: #d4ebff;}#sk-container-id-1 div.sk-label input.sk-toggleable__control:checked~label.sk-toggleable__label {background-color: #d4ebff;}#sk-container-id-1 input.sk-hidden--visually {border: 0;clip: rect(1px 1px 1px 1px);clip: rect(1px, 1px, 1px, 1px);height: 1px;margin: -1px;overflow: hidden;padding: 0;position: absolute;width: 1px;}#sk-container-id-1 div.sk-estimator {font-family: monospace;background-color: #f0f8ff;border: 1px dotted black;border-radius: 0.25em;box-sizing: border-box;margin-bottom: 0.5em;}#sk-container-id-1 div.sk-estimator:hover {background-color: #d4ebff;}#sk-container-id-1 div.sk-parallel-item::after {content: \"\";width: 100%;border-bottom: 1px solid gray;flex-grow: 1;}#sk-container-id-1 div.sk-label:hover label.sk-toggleable__label {background-color: #d4ebff;}#sk-container-id-1 div.sk-serial::before {content: \"\";position: absolute;border-left: 1px solid gray;box-sizing: border-box;top: 0;bottom: 0;left: 50%;z-index: 0;}#sk-container-id-1 div.sk-serial {display: flex;flex-direction: column;align-items: center;background-color: white;padding-right: 0.2em;padding-left: 0.2em;position: relative;}#sk-container-id-1 div.sk-item {position: relative;z-index: 1;}#sk-container-id-1 div.sk-parallel {display: flex;align-items: stretch;justify-content: center;background-color: white;position: relative;}#sk-container-id-1 div.sk-item::before, #sk-container-id-1 div.sk-parallel-item::before {content: \"\";position: absolute;border-left: 1px solid gray;box-sizing: border-box;top: 0;bottom: 0;left: 50%;z-index: -1;}#sk-container-id-1 div.sk-parallel-item {display: flex;flex-direction: column;z-index: 1;position: relative;background-color: white;}#sk-container-id-1 div.sk-parallel-item:first-child::after {align-self: flex-end;width: 50%;}#sk-container-id-1 div.sk-parallel-item:last-child::after {align-self: flex-start;width: 50%;}#sk-container-id-1 div.sk-parallel-item:only-child::after {width: 0;}#sk-container-id-1 div.sk-dashed-wrapped {border: 1px dashed gray;margin: 0 0.4em 0.5em 0.4em;box-sizing: border-box;padding-bottom: 0.4em;background-color: white;}#sk-container-id-1 div.sk-label label {font-family: monospace;font-weight: bold;display: inline-block;line-height: 1.2em;}#sk-container-id-1 div.sk-label-container {text-align: center;}#sk-container-id-1 div.sk-container {/* jupyter's `normalize.less` sets `[hidden] { display: none; }` but bootstrap.min.css set `[hidden] { display: none !important; }` so we also need the `!important` here to be able to override the default hidden behavior on the sphinx rendered scikit-learn.org. See: https://github.com/scikit-learn/scikit-learn/issues/21755 */display: inline-block !important;position: relative;}#sk-container-id-1 div.sk-text-repr-fallback {display: none;}</style><div id=\"sk-container-id-1\" class=\"sk-top-container\"><div class=\"sk-text-repr-fallback\"><pre>LogisticRegression(max_iter=10000, multi_class=&#x27;ovr&#x27;, solver=&#x27;saga&#x27;)</pre><b>In a Jupyter environment, please rerun this cell to show the HTML representation or trust the notebook. <br />On GitHub, the HTML representation is unable to render, please try loading this page with nbviewer.org.</b></div><div class=\"sk-container\" hidden><div class=\"sk-item\"><div class=\"sk-estimator sk-toggleable\"><input class=\"sk-toggleable__control sk-hidden--visually\" id=\"sk-estimator-id-1\" type=\"checkbox\" checked><label for=\"sk-estimator-id-1\" class=\"sk-toggleable__label sk-toggleable__label-arrow\">LogisticRegression</label><div class=\"sk-toggleable__content\"><pre>LogisticRegression(max_iter=10000, multi_class=&#x27;ovr&#x27;, solver=&#x27;saga&#x27;)</pre></div></div></div></div></div>"
      ],
      "text/plain": [
       "LogisticRegression(max_iter=10000, multi_class='ovr', solver='saga')"
      ]
     },
     "execution_count": 20,
     "metadata": {},
     "output_type": "execute_result"
    }
   ],
   "source": [
    "log_reg.fit(X_train_reduced,y_train)"
   ]
  },
  {
   "cell_type": "code",
   "execution_count": 23,
   "id": "df25f943",
   "metadata": {},
   "outputs": [],
   "source": [
    "#y_cla_pred = log_reg.predict_proba(X_test_reduced)[:, 1]"
   ]
  },
  {
   "cell_type": "code",
   "execution_count": 24,
   "id": "f46be7b4",
   "metadata": {},
   "outputs": [
    {
     "data": {
      "text/plain": [
       "0.8867230854605993"
      ]
     },
     "execution_count": 24,
     "metadata": {},
     "output_type": "execute_result"
    }
   ],
   "source": [
    "log_reg.score(X_test_reduced, y_test)# The accuracy for the test data set"
   ]
  },
  {
   "cell_type": "code",
   "execution_count": 25,
   "id": "a9e79214",
   "metadata": {},
   "outputs": [],
   "source": [
    "y_probas_log_reg = cross_val_predict(log_reg,X_test_reduced, y_test,cv=3, method=\"predict_proba\" )\n",
    "probs_lr = y_probas_log_reg[:,1]"
   ]
  },
  {
   "cell_type": "code",
   "execution_count": 26,
   "id": "f09d0668",
   "metadata": {},
   "outputs": [],
   "source": [
    "fpr_lr, tpr_lr, thresholds_lr = roc_curve(y_test, probs_lr)"
   ]
  },
  {
   "cell_type": "markdown",
   "id": "01b4e213",
   "metadata": {},
   "source": [
    "<a name=\"4.2\"></a>\n",
    "###  Boosted trees - XGBoost"
   ]
  },
  {
   "cell_type": "code",
   "execution_count": 27,
   "id": "9f43752f",
   "metadata": {},
   "outputs": [
    {
     "data": {
      "text/html": [
       "<style>#sk-container-id-2 {color: black;background-color: white;}#sk-container-id-2 pre{padding: 0;}#sk-container-id-2 div.sk-toggleable {background-color: white;}#sk-container-id-2 label.sk-toggleable__label {cursor: pointer;display: block;width: 100%;margin-bottom: 0;padding: 0.3em;box-sizing: border-box;text-align: center;}#sk-container-id-2 label.sk-toggleable__label-arrow:before {content: \"▸\";float: left;margin-right: 0.25em;color: #696969;}#sk-container-id-2 label.sk-toggleable__label-arrow:hover:before {color: black;}#sk-container-id-2 div.sk-estimator:hover label.sk-toggleable__label-arrow:before {color: black;}#sk-container-id-2 div.sk-toggleable__content {max-height: 0;max-width: 0;overflow: hidden;text-align: left;background-color: #f0f8ff;}#sk-container-id-2 div.sk-toggleable__content pre {margin: 0.2em;color: black;border-radius: 0.25em;background-color: #f0f8ff;}#sk-container-id-2 input.sk-toggleable__control:checked~div.sk-toggleable__content {max-height: 200px;max-width: 100%;overflow: auto;}#sk-container-id-2 input.sk-toggleable__control:checked~label.sk-toggleable__label-arrow:before {content: \"▾\";}#sk-container-id-2 div.sk-estimator input.sk-toggleable__control:checked~label.sk-toggleable__label {background-color: #d4ebff;}#sk-container-id-2 div.sk-label input.sk-toggleable__control:checked~label.sk-toggleable__label {background-color: #d4ebff;}#sk-container-id-2 input.sk-hidden--visually {border: 0;clip: rect(1px 1px 1px 1px);clip: rect(1px, 1px, 1px, 1px);height: 1px;margin: -1px;overflow: hidden;padding: 0;position: absolute;width: 1px;}#sk-container-id-2 div.sk-estimator {font-family: monospace;background-color: #f0f8ff;border: 1px dotted black;border-radius: 0.25em;box-sizing: border-box;margin-bottom: 0.5em;}#sk-container-id-2 div.sk-estimator:hover {background-color: #d4ebff;}#sk-container-id-2 div.sk-parallel-item::after {content: \"\";width: 100%;border-bottom: 1px solid gray;flex-grow: 1;}#sk-container-id-2 div.sk-label:hover label.sk-toggleable__label {background-color: #d4ebff;}#sk-container-id-2 div.sk-serial::before {content: \"\";position: absolute;border-left: 1px solid gray;box-sizing: border-box;top: 0;bottom: 0;left: 50%;z-index: 0;}#sk-container-id-2 div.sk-serial {display: flex;flex-direction: column;align-items: center;background-color: white;padding-right: 0.2em;padding-left: 0.2em;position: relative;}#sk-container-id-2 div.sk-item {position: relative;z-index: 1;}#sk-container-id-2 div.sk-parallel {display: flex;align-items: stretch;justify-content: center;background-color: white;position: relative;}#sk-container-id-2 div.sk-item::before, #sk-container-id-2 div.sk-parallel-item::before {content: \"\";position: absolute;border-left: 1px solid gray;box-sizing: border-box;top: 0;bottom: 0;left: 50%;z-index: -1;}#sk-container-id-2 div.sk-parallel-item {display: flex;flex-direction: column;z-index: 1;position: relative;background-color: white;}#sk-container-id-2 div.sk-parallel-item:first-child::after {align-self: flex-end;width: 50%;}#sk-container-id-2 div.sk-parallel-item:last-child::after {align-self: flex-start;width: 50%;}#sk-container-id-2 div.sk-parallel-item:only-child::after {width: 0;}#sk-container-id-2 div.sk-dashed-wrapped {border: 1px dashed gray;margin: 0 0.4em 0.5em 0.4em;box-sizing: border-box;padding-bottom: 0.4em;background-color: white;}#sk-container-id-2 div.sk-label label {font-family: monospace;font-weight: bold;display: inline-block;line-height: 1.2em;}#sk-container-id-2 div.sk-label-container {text-align: center;}#sk-container-id-2 div.sk-container {/* jupyter's `normalize.less` sets `[hidden] { display: none; }` but bootstrap.min.css set `[hidden] { display: none !important; }` so we also need the `!important` here to be able to override the default hidden behavior on the sphinx rendered scikit-learn.org. See: https://github.com/scikit-learn/scikit-learn/issues/21755 */display: inline-block !important;position: relative;}#sk-container-id-2 div.sk-text-repr-fallback {display: none;}</style><div id=\"sk-container-id-2\" class=\"sk-top-container\"><div class=\"sk-text-repr-fallback\"><pre>XGBClassifier(base_score=None, booster=&#x27;gbtree&#x27;, callbacks=None,\n",
       "              colsample_bylevel=None, colsample_bynode=None,\n",
       "              colsample_bytree=None, early_stopping_rounds=None,\n",
       "              enable_categorical=False, eval_metric=None, feature_types=None,\n",
       "              gamma=None, gpu_id=None, grow_policy=None, importance_type=None,\n",
       "              interaction_constraints=None, learning_rate=0.01, max_bin=None,\n",
       "              max_cat_threshold=None, max_cat_to_onehot=None,\n",
       "              max_delta_step=None, max_depth=None, max_leaves=None,\n",
       "              min_child_weight=None, missing=nan, monotone_constraints=None,\n",
       "              n_estimators=100, n_jobs=None, num_parallel_tree=None,\n",
       "              predictor=None, random_state=None, ...)</pre><b>In a Jupyter environment, please rerun this cell to show the HTML representation or trust the notebook. <br />On GitHub, the HTML representation is unable to render, please try loading this page with nbviewer.org.</b></div><div class=\"sk-container\" hidden><div class=\"sk-item\"><div class=\"sk-estimator sk-toggleable\"><input class=\"sk-toggleable__control sk-hidden--visually\" id=\"sk-estimator-id-2\" type=\"checkbox\" checked><label for=\"sk-estimator-id-2\" class=\"sk-toggleable__label sk-toggleable__label-arrow\">XGBClassifier</label><div class=\"sk-toggleable__content\"><pre>XGBClassifier(base_score=None, booster=&#x27;gbtree&#x27;, callbacks=None,\n",
       "              colsample_bylevel=None, colsample_bynode=None,\n",
       "              colsample_bytree=None, early_stopping_rounds=None,\n",
       "              enable_categorical=False, eval_metric=None, feature_types=None,\n",
       "              gamma=None, gpu_id=None, grow_policy=None, importance_type=None,\n",
       "              interaction_constraints=None, learning_rate=0.01, max_bin=None,\n",
       "              max_cat_threshold=None, max_cat_to_onehot=None,\n",
       "              max_delta_step=None, max_depth=None, max_leaves=None,\n",
       "              min_child_weight=None, missing=nan, monotone_constraints=None,\n",
       "              n_estimators=100, n_jobs=None, num_parallel_tree=None,\n",
       "              predictor=None, random_state=None, ...)</pre></div></div></div></div></div>"
      ],
      "text/plain": [
       "XGBClassifier(base_score=None, booster='gbtree', callbacks=None,\n",
       "              colsample_bylevel=None, colsample_bynode=None,\n",
       "              colsample_bytree=None, early_stopping_rounds=None,\n",
       "              enable_categorical=False, eval_metric=None, feature_types=None,\n",
       "              gamma=None, gpu_id=None, grow_policy=None, importance_type=None,\n",
       "              interaction_constraints=None, learning_rate=0.01, max_bin=None,\n",
       "              max_cat_threshold=None, max_cat_to_onehot=None,\n",
       "              max_delta_step=None, max_depth=None, max_leaves=None,\n",
       "              min_child_weight=None, missing=nan, monotone_constraints=None,\n",
       "              n_estimators=100, n_jobs=None, num_parallel_tree=None,\n",
       "              predictor=None, random_state=None, ...)"
      ]
     },
     "execution_count": 27,
     "metadata": {},
     "output_type": "execute_result"
    }
   ],
   "source": [
    "log_xgb = XGBClassifier(learning_rate = 0.01, n_estimators = 100,objective='binary:logistic',\n",
    "                     booster = 'gbtree', scale_pos_weight = 1)\n",
    "log_xgb.fit(X_train_reduced,y_train)"
   ]
  },
  {
   "cell_type": "code",
   "execution_count": 28,
   "id": "e698b35d",
   "metadata": {},
   "outputs": [
    {
     "data": {
      "text/plain": [
       "0.8865149833518313"
      ]
     },
     "execution_count": 28,
     "metadata": {},
     "output_type": "execute_result"
    }
   ],
   "source": [
    "y_pred = log_xgb.predict(X_test_reduced)\n",
    "log_xgb.score(X_test_reduced, y_test)# The accuracy for the test data set"
   ]
  },
  {
   "cell_type": "markdown",
   "id": "87cce7c9",
   "metadata": {},
   "source": [
    "<a name=\"4.3\"></a>\n",
    "### Recall (Logistic regression & XGBoost)"
   ]
  },
  {
   "cell_type": "code",
   "execution_count": 29,
   "id": "78c4ffe4",
   "metadata": {},
   "outputs": [
    {
     "data": {
      "image/png": "[encoded data removed]",
      "text/plain": [
       "<Figure size 864x432 with 2 Axes>"
      ]
     },
     "metadata": {},
     "output_type": "display_data"
    }
   ],
   "source": [
    "y_probas_xgb = cross_val_predict(log_xgb,X_test_reduced, y_test,cv=3, method=\"predict_proba\" )\n",
    "fpr_xgb, tpr_xgb, thresholds_xgb = roc_curve(y_test, y_probas_xgb[:,1])\n",
    "plot_roc_lr_xgb(fpr_xgb, tpr_xgb, fpr_lr, tpr_lr)"
   ]
  },
  {
   "cell_type": "code",
   "execution_count": 50,
   "id": "b59b4f35",
   "metadata": {},
   "outputs": [
    {
     "name": "stdout",
     "output_type": "stream",
     "text": [
      "Saved trained model at C:\\Users\\Burlay\\Desktop\\Jupyter_vm\\uci-bank-marketing\\models\\log_reg.joblib \n"
     ]
    }
   ],
   "source": [
    "if not os.path.isfile(path_lr):\n",
    "    dump(log_reg, path_lr) \n",
    "    print('Saved trained model at %s ' % path_lr)"
   ]
  },
  {
   "cell_type": "code",
   "execution_count": 30,
   "id": "76a28274",
   "metadata": {},
   "outputs": [
    {
     "data": {
      "text/html": [
       "<div>\n",
       "<style scoped>\n",
       "    .dataframe tbody tr th:only-of-type {\n",
       "        vertical-align: middle;\n",
       "    }\n",
       "\n",
       "    .dataframe tbody tr th {\n",
       "        vertical-align: top;\n",
       "    }\n",
       "\n",
       "    .dataframe thead th {\n",
       "        text-align: right;\n",
       "    }\n",
       "</style>\n",
       "<table border=\"1\" class=\"dataframe\">\n",
       "  <thead>\n",
       "    <tr style=\"text-align: right;\">\n",
       "      <th></th>\n",
       "      <th>ID</th>\n",
       "      <th>Yes/No</th>\n",
       "      <th>YesProbabil</th>\n",
       "      <th>Predicted</th>\n",
       "    </tr>\n",
       "  </thead>\n",
       "  <tbody>\n",
       "    <tr>\n",
       "      <th>12</th>\n",
       "      <td>13595</td>\n",
       "      <td>1</td>\n",
       "      <td>0.132803</td>\n",
       "      <td>0</td>\n",
       "    </tr>\n",
       "    <tr>\n",
       "      <th>13</th>\n",
       "      <td>21871</td>\n",
       "      <td>1</td>\n",
       "      <td>0.078866</td>\n",
       "      <td>0</td>\n",
       "    </tr>\n",
       "    <tr>\n",
       "      <th>19</th>\n",
       "      <td>37480</td>\n",
       "      <td>1</td>\n",
       "      <td>0.365294</td>\n",
       "      <td>0</td>\n",
       "    </tr>\n",
       "    <tr>\n",
       "      <th>20</th>\n",
       "      <td>17267</td>\n",
       "      <td>1</td>\n",
       "      <td>0.027502</td>\n",
       "      <td>0</td>\n",
       "    </tr>\n",
       "    <tr>\n",
       "      <th>22</th>\n",
       "      <td>8528</td>\n",
       "      <td>1</td>\n",
       "      <td>0.042751</td>\n",
       "      <td>0</td>\n",
       "    </tr>\n",
       "    <tr>\n",
       "      <th>...</th>\n",
       "      <td>...</td>\n",
       "      <td>...</td>\n",
       "      <td>...</td>\n",
       "      <td>...</td>\n",
       "    </tr>\n",
       "    <tr>\n",
       "      <th>14379</th>\n",
       "      <td>27958</td>\n",
       "      <td>1</td>\n",
       "      <td>0.050107</td>\n",
       "      <td>0</td>\n",
       "    </tr>\n",
       "    <tr>\n",
       "      <th>14389</th>\n",
       "      <td>39183</td>\n",
       "      <td>1</td>\n",
       "      <td>0.059248</td>\n",
       "      <td>0</td>\n",
       "    </tr>\n",
       "    <tr>\n",
       "      <th>14396</th>\n",
       "      <td>40567</td>\n",
       "      <td>1</td>\n",
       "      <td>0.172782</td>\n",
       "      <td>0</td>\n",
       "    </tr>\n",
       "    <tr>\n",
       "      <th>14405</th>\n",
       "      <td>30322</td>\n",
       "      <td>1</td>\n",
       "      <td>0.203068</td>\n",
       "      <td>0</td>\n",
       "    </tr>\n",
       "    <tr>\n",
       "      <th>14411</th>\n",
       "      <td>30159</td>\n",
       "      <td>1</td>\n",
       "      <td>0.127250</td>\n",
       "      <td>0</td>\n",
       "    </tr>\n",
       "  </tbody>\n",
       "</table>\n",
       "<p>1634 rows × 4 columns</p>\n",
       "</div>"
      ],
      "text/plain": [
       "          ID  Yes/No  YesProbabil  Predicted\n",
       "12     13595       1     0.132803          0\n",
       "13     21871       1     0.078866          0\n",
       "19     37480       1     0.365294          0\n",
       "20     17267       1     0.027502          0\n",
       "22      8528       1     0.042751          0\n",
       "...      ...     ...          ...        ...\n",
       "14379  27958       1     0.050107          0\n",
       "14389  39183       1     0.059248          0\n",
       "14396  40567       1     0.172782          0\n",
       "14405  30322       1     0.203068          0\n",
       "14411  30159       1     0.127250          0\n",
       "\n",
       "[1634 rows x 4 columns]"
      ]
     },
     "execution_count": 30,
     "metadata": {},
     "output_type": "execute_result"
    }
   ],
   "source": [
    "log_reg = load(path_lr)\n",
    "y_lr_pred = probability(X_test_reduced, y_test,log_reg)\n",
    "y_lr_pred[y_lr_pred['Yes/No'] > 0]"
   ]
  },
  {
   "cell_type": "code",
   "execution_count": 31,
   "id": "afb4af1b",
   "metadata": {},
   "outputs": [],
   "source": [
    "if not os.path.isfile(path_xgb):\n",
    "    dump(path_xgb,path_xgb)\n",
    "    print('Saved trained model at %s ' % path_xgb)"
   ]
  },
  {
   "cell_type": "code",
   "execution_count": 32,
   "id": "77701018",
   "metadata": {},
   "outputs": [
    {
     "data": {
      "text/html": [
       "<div>\n",
       "<style scoped>\n",
       "    .dataframe tbody tr th:only-of-type {\n",
       "        vertical-align: middle;\n",
       "    }\n",
       "\n",
       "    .dataframe tbody tr th {\n",
       "        vertical-align: top;\n",
       "    }\n",
       "\n",
       "    .dataframe thead th {\n",
       "        text-align: right;\n",
       "    }\n",
       "</style>\n",
       "<table border=\"1\" class=\"dataframe\">\n",
       "  <thead>\n",
       "    <tr style=\"text-align: right;\">\n",
       "      <th></th>\n",
       "      <th>ID</th>\n",
       "      <th>Yes/No</th>\n",
       "      <th>YesProbabil</th>\n",
       "      <th>Predicted</th>\n",
       "    </tr>\n",
       "  </thead>\n",
       "  <tbody>\n",
       "    <tr>\n",
       "      <th>12</th>\n",
       "      <td>13595</td>\n",
       "      <td>1</td>\n",
       "      <td>0.132803</td>\n",
       "      <td>0</td>\n",
       "    </tr>\n",
       "    <tr>\n",
       "      <th>13</th>\n",
       "      <td>21871</td>\n",
       "      <td>1</td>\n",
       "      <td>0.078866</td>\n",
       "      <td>0</td>\n",
       "    </tr>\n",
       "    <tr>\n",
       "      <th>19</th>\n",
       "      <td>37480</td>\n",
       "      <td>1</td>\n",
       "      <td>0.365294</td>\n",
       "      <td>0</td>\n",
       "    </tr>\n",
       "    <tr>\n",
       "      <th>20</th>\n",
       "      <td>17267</td>\n",
       "      <td>1</td>\n",
       "      <td>0.027502</td>\n",
       "      <td>0</td>\n",
       "    </tr>\n",
       "    <tr>\n",
       "      <th>22</th>\n",
       "      <td>8528</td>\n",
       "      <td>1</td>\n",
       "      <td>0.042751</td>\n",
       "      <td>0</td>\n",
       "    </tr>\n",
       "    <tr>\n",
       "      <th>...</th>\n",
       "      <td>...</td>\n",
       "      <td>...</td>\n",
       "      <td>...</td>\n",
       "      <td>...</td>\n",
       "    </tr>\n",
       "    <tr>\n",
       "      <th>14379</th>\n",
       "      <td>27958</td>\n",
       "      <td>1</td>\n",
       "      <td>0.050107</td>\n",
       "      <td>0</td>\n",
       "    </tr>\n",
       "    <tr>\n",
       "      <th>14389</th>\n",
       "      <td>39183</td>\n",
       "      <td>1</td>\n",
       "      <td>0.059248</td>\n",
       "      <td>0</td>\n",
       "    </tr>\n",
       "    <tr>\n",
       "      <th>14396</th>\n",
       "      <td>40567</td>\n",
       "      <td>1</td>\n",
       "      <td>0.172782</td>\n",
       "      <td>0</td>\n",
       "    </tr>\n",
       "    <tr>\n",
       "      <th>14405</th>\n",
       "      <td>30322</td>\n",
       "      <td>1</td>\n",
       "      <td>0.203068</td>\n",
       "      <td>0</td>\n",
       "    </tr>\n",
       "    <tr>\n",
       "      <th>14411</th>\n",
       "      <td>30159</td>\n",
       "      <td>1</td>\n",
       "      <td>0.127250</td>\n",
       "      <td>0</td>\n",
       "    </tr>\n",
       "  </tbody>\n",
       "</table>\n",
       "<p>1634 rows × 4 columns</p>\n",
       "</div>"
      ],
      "text/plain": [
       "          ID  Yes/No  YesProbabil  Predicted\n",
       "12     13595       1     0.132803          0\n",
       "13     21871       1     0.078866          0\n",
       "19     37480       1     0.365294          0\n",
       "20     17267       1     0.027502          0\n",
       "22      8528       1     0.042751          0\n",
       "...      ...     ...          ...        ...\n",
       "14379  27958       1     0.050107          0\n",
       "14389  39183       1     0.059248          0\n",
       "14396  40567       1     0.172782          0\n",
       "14405  30322       1     0.203068          0\n",
       "14411  30159       1     0.127250          0\n",
       "\n",
       "[1634 rows x 4 columns]"
      ]
     },
     "execution_count": 32,
     "metadata": {},
     "output_type": "execute_result"
    }
   ],
   "source": [
    "xgb_clf = load(path_xgb)\n",
    "y_xgb_pred = probability(X_test_reduced, y_test,log_reg)\n",
    "y_xgb_pred[y_xgb_pred['Yes/No'] > 0]"
   ]
  },
  {
   "cell_type": "markdown",
   "id": "93d3bca1",
   "metadata": {},
   "source": [
    "<a name=\"5\"></a>\n",
    "## Evaluation of Machine Learning"
   ]
  },
  {
   "cell_type": "code",
   "execution_count": 26,
   "id": "47b4035c",
   "metadata": {},
   "outputs": [
    {
     "name": "stdout",
     "output_type": "stream",
     "text": [
      "Decision Tree Classifier CV Accuracy: 0.8815182065853362\n",
      "Extreme Gradient Boosing CV Accuracy: 0.8874945231485697\n",
      "Support Vector Machines CV Accuracy: 0.887718515123644\n",
      "K-Nearest Neighbors CV Accuracy: 0.8818914521355797\n",
      "Logistic Regression CV Accuracy: 0.887718515123644\n"
     ]
    }
   ],
   "source": [
    "ml_models_acc(X_train_reduced,X_test_reduced,y_train,y_test)"
   ]
  },
  {
   "cell_type": "code",
   "execution_count": 27,
   "id": "e6cc135c",
   "metadata": {},
   "outputs": [
    {
     "name": "stdout",
     "output_type": "stream",
     "text": [
      "Decision Tree Classifier\n",
      "\n",
      "Test Stats\n",
      "               precision    recall  f1-score   support\n",
      "\n",
      "           0       0.89      0.99      0.94     12782\n",
      "           1       0.23      0.03      0.05      1634\n",
      "\n",
      "    accuracy                           0.88     14416\n",
      "   macro avg       0.56      0.51      0.49     14416\n",
      "weighted avg       0.81      0.88      0.84     14416\n",
      "\n"
     ]
    },
    {
     "data": {
      "image/png": "[encoded data removed]",
      "text/plain": [
       "<Figure size 720x504 with 2 Axes>"
      ]
     },
     "metadata": {},
     "output_type": "display_data"
    },
    {
     "name": "stdout",
     "output_type": "stream",
     "text": [
      "Decision Tree Classifier\n",
      "\n",
      "Train Stats\n",
      "               precision    recall  f1-score   support\n",
      "\n",
      "           0       0.90      1.00      0.94     23766\n",
      "           1       0.72      0.09      0.15      3006\n",
      "\n",
      "    accuracy                           0.89     26772\n",
      "   macro avg       0.81      0.54      0.55     26772\n",
      "weighted avg       0.88      0.89      0.85     26772\n",
      "\n"
     ]
    },
    {
     "data": {
      "image/png": "[encoded data removed]",
      "text/plain": [
       "<Figure size 720x504 with 2 Axes>"
      ]
     },
     "metadata": {},
     "output_type": "display_data"
    },
    {
     "name": "stdout",
     "output_type": "stream",
     "text": [
      "Extreme Gradient Boosing\n",
      "\n",
      "Test Stats\n",
      "               precision    recall  f1-score   support\n",
      "\n",
      "           0       0.89      1.00      0.94     12782\n",
      "           1       0.11      0.00      0.00      1634\n",
      "\n",
      "    accuracy                           0.89     14416\n",
      "   macro avg       0.50      0.50      0.47     14416\n",
      "weighted avg       0.80      0.89      0.83     14416\n",
      "\n"
     ]
    },
    {
     "data": {
      "image/png": "[encoded data removed]",
      "text/plain": [
       "<Figure size 720x504 with 2 Axes>"
      ]
     },
     "metadata": {},
     "output_type": "display_data"
    },
    {
     "name": "stdout",
     "output_type": "stream",
     "text": [
      "Extreme Gradient Boosing\n",
      "\n",
      "Train Stats\n",
      "               precision    recall  f1-score   support\n",
      "\n",
      "           0       0.89      1.00      0.94     23766\n",
      "           1       0.82      0.04      0.08      3006\n",
      "\n",
      "    accuracy                           0.89     26772\n",
      "   macro avg       0.86      0.52      0.51     26772\n",
      "weighted avg       0.88      0.89      0.85     26772\n",
      "\n"
     ]
    },
    {
     "data": {
      "image/png": "[encoded data removed]",
      "text/plain": [
       "<Figure size 720x504 with 2 Axes>"
      ]
     },
     "metadata": {},
     "output_type": "display_data"
    },
    {
     "name": "stdout",
     "output_type": "stream",
     "text": [
      "Support Vector Machines\n",
      "\n",
      "Test Stats\n",
      "               precision    recall  f1-score   support\n",
      "\n",
      "           0       0.89      1.00      0.94     12782\n",
      "           1       0.00      0.00      0.00      1634\n",
      "\n",
      "    accuracy                           0.89     14416\n",
      "   macro avg       0.44      0.50      0.47     14416\n",
      "weighted avg       0.79      0.89      0.83     14416\n",
      "\n"
     ]
    },
    {
     "name": "stderr",
     "output_type": "stream",
     "text": [
      "c:\\users\\burlay\\appdata\\local\\programs\\python\\python38\\lib\\site-packages\\sklearn\\metrics\\_classification.py:1327: UndefinedMetricWarning: Precision and F-score are ill-defined and being set to 0.0 in labels with no predicted samples. Use `zero_division` parameter to control this behavior.\n",
      "  _warn_prf(average, modifier, msg_start, len(result))\n",
      "c:\\users\\burlay\\appdata\\local\\programs\\python\\python38\\lib\\site-packages\\sklearn\\metrics\\_classification.py:1327: UndefinedMetricWarning: Precision and F-score are ill-defined and being set to 0.0 in labels with no predicted samples. Use `zero_division` parameter to control this behavior.\n",
      "  _warn_prf(average, modifier, msg_start, len(result))\n",
      "c:\\users\\burlay\\appdata\\local\\programs\\python\\python38\\lib\\site-packages\\sklearn\\metrics\\_classification.py:1327: UndefinedMetricWarning: Precision and F-score are ill-defined and being set to 0.0 in labels with no predicted samples. Use `zero_division` parameter to control this behavior.\n",
      "  _warn_prf(average, modifier, msg_start, len(result))\n",
      "c:\\users\\burlay\\appdata\\local\\programs\\python\\python38\\lib\\site-packages\\sklearn\\metrics\\_classification.py:1327: UndefinedMetricWarning: Precision and F-score are ill-defined and being set to 0.0 in labels with no predicted samples. Use `zero_division` parameter to control this behavior.\n",
      "  _warn_prf(average, modifier, msg_start, len(result))\n",
      "c:\\users\\burlay\\appdata\\local\\programs\\python\\python38\\lib\\site-packages\\sklearn\\metrics\\_classification.py:1327: UndefinedMetricWarning: Precision and F-score are ill-defined and being set to 0.0 in labels with no predicted samples. Use `zero_division` parameter to control this behavior.\n",
      "  _warn_prf(average, modifier, msg_start, len(result))\n",
      "c:\\users\\burlay\\appdata\\local\\programs\\python\\python38\\lib\\site-packages\\sklearn\\metrics\\_classification.py:1327: UndefinedMetricWarning: Precision and F-score are ill-defined and being set to 0.0 in labels with no predicted samples. Use `zero_division` parameter to control this behavior.\n",
      "  _warn_prf(average, modifier, msg_start, len(result))\n"
     ]
    },
    {
     "data": {
      "image/png": "[encoded data removed]",
      "text/plain": [
       "<Figure size 720x504 with 2 Axes>"
      ]
     },
     "metadata": {},
     "output_type": "display_data"
    },
    {
     "name": "stdout",
     "output_type": "stream",
     "text": [
      "Support Vector Machines\n"
     ]
    },
    {
     "name": "stderr",
     "output_type": "stream",
     "text": [
      "c:\\users\\burlay\\appdata\\local\\programs\\python\\python38\\lib\\site-packages\\sklearn\\metrics\\_classification.py:1327: UndefinedMetricWarning: Precision and F-score are ill-defined and being set to 0.0 in labels with no predicted samples. Use `zero_division` parameter to control this behavior.\n",
      "  _warn_prf(average, modifier, msg_start, len(result))\n",
      "c:\\users\\burlay\\appdata\\local\\programs\\python\\python38\\lib\\site-packages\\sklearn\\metrics\\_classification.py:1327: UndefinedMetricWarning: Precision and F-score are ill-defined and being set to 0.0 in labels with no predicted samples. Use `zero_division` parameter to control this behavior.\n",
      "  _warn_prf(average, modifier, msg_start, len(result))\n",
      "c:\\users\\burlay\\appdata\\local\\programs\\python\\python38\\lib\\site-packages\\sklearn\\metrics\\_classification.py:1327: UndefinedMetricWarning: Precision and F-score are ill-defined and being set to 0.0 in labels with no predicted samples. Use `zero_division` parameter to control this behavior.\n",
      "  _warn_prf(average, modifier, msg_start, len(result))\n"
     ]
    },
    {
     "name": "stdout",
     "output_type": "stream",
     "text": [
      "\n",
      "Train Stats\n",
      "               precision    recall  f1-score   support\n",
      "\n",
      "           0       0.89      1.00      0.94     23766\n",
      "           1       0.00      0.00      0.00      3006\n",
      "\n",
      "    accuracy                           0.89     26772\n",
      "   macro avg       0.44      0.50      0.47     26772\n",
      "weighted avg       0.79      0.89      0.83     26772\n",
      "\n"
     ]
    },
    {
     "data": {
      "image/png": "[encoded data removed]",
      "text/plain": [
       "<Figure size 720x504 with 2 Axes>"
      ]
     },
     "metadata": {},
     "output_type": "display_data"
    },
    {
     "name": "stdout",
     "output_type": "stream",
     "text": [
      "K-Nearest Neighbors\n",
      "\n",
      "Test Stats\n",
      "               precision    recall  f1-score   support\n",
      "\n",
      "           0       0.89      0.99      0.94     12782\n",
      "           1       0.26      0.03      0.05      1634\n",
      "\n",
      "    accuracy                           0.88     14416\n",
      "   macro avg       0.58      0.51      0.49     14416\n",
      "weighted avg       0.82      0.88      0.84     14416\n",
      "\n"
     ]
    },
    {
     "data": {
      "image/png": "[encoded data removed]",
      "text/plain": [
       "<Figure size 720x504 with 2 Axes>"
      ]
     },
     "metadata": {},
     "output_type": "display_data"
    },
    {
     "name": "stdout",
     "output_type": "stream",
     "text": [
      "K-Nearest Neighbors\n",
      "\n",
      "Train Stats\n",
      "               precision    recall  f1-score   support\n",
      "\n",
      "           0       1.00      1.00      1.00     23766\n",
      "           1       1.00      1.00      1.00      3006\n",
      "\n",
      "    accuracy                           1.00     26772\n",
      "   macro avg       1.00      1.00      1.00     26772\n",
      "weighted avg       1.00      1.00      1.00     26772\n",
      "\n"
     ]
    },
    {
     "data": {
      "image/png": "[encoded data removed]",
      "text/plain": [
       "<Figure size 720x504 with 2 Axes>"
      ]
     },
     "metadata": {},
     "output_type": "display_data"
    },
    {
     "name": "stdout",
     "output_type": "stream",
     "text": [
      "Logistic Regression\n",
      "\n",
      "Test Stats\n",
      "               precision    recall  f1-score   support\n",
      "\n",
      "           0       0.89      1.00      0.94     12782\n",
      "           1       0.57      0.00      0.00      1634\n",
      "\n",
      "    accuracy                           0.89     14416\n",
      "   macro avg       0.73      0.50      0.47     14416\n",
      "weighted avg       0.85      0.89      0.83     14416\n",
      "\n"
     ]
    },
    {
     "data": {
      "image/png": "[encoded data removed]",
      "text/plain": [
       "<Figure size 720x504 with 2 Axes>"
      ]
     },
     "metadata": {},
     "output_type": "display_data"
    },
    {
     "name": "stdout",
     "output_type": "stream",
     "text": [
      "Logistic Regression\n",
      "\n",
      "Train Stats\n",
      "               precision    recall  f1-score   support\n",
      "\n",
      "           0       0.89      1.00      0.94     23766\n",
      "           1       0.00      0.00      0.00      3006\n",
      "\n",
      "    accuracy                           0.89     26772\n",
      "   macro avg       0.44      0.50      0.47     26772\n",
      "weighted avg       0.79      0.89      0.83     26772\n",
      "\n"
     ]
    },
    {
     "name": "stderr",
     "output_type": "stream",
     "text": [
      "c:\\users\\burlay\\appdata\\local\\programs\\python\\python38\\lib\\site-packages\\sklearn\\metrics\\_classification.py:1327: UndefinedMetricWarning: Precision and F-score are ill-defined and being set to 0.0 in labels with no predicted samples. Use `zero_division` parameter to control this behavior.\n",
      "  _warn_prf(average, modifier, msg_start, len(result))\n",
      "c:\\users\\burlay\\appdata\\local\\programs\\python\\python38\\lib\\site-packages\\sklearn\\metrics\\_classification.py:1327: UndefinedMetricWarning: Precision and F-score are ill-defined and being set to 0.0 in labels with no predicted samples. Use `zero_division` parameter to control this behavior.\n",
      "  _warn_prf(average, modifier, msg_start, len(result))\n",
      "c:\\users\\burlay\\appdata\\local\\programs\\python\\python38\\lib\\site-packages\\sklearn\\metrics\\_classification.py:1327: UndefinedMetricWarning: Precision and F-score are ill-defined and being set to 0.0 in labels with no predicted samples. Use `zero_division` parameter to control this behavior.\n",
      "  _warn_prf(average, modifier, msg_start, len(result))\n"
     ]
    },
    {
     "data": {
      "image/png": "[encoded data removed]",
      "text/plain": [
       "<Figure size 720x504 with 2 Axes>"
      ]
     },
     "metadata": {},
     "output_type": "display_data"
    }
   ],
   "source": [
    "ml_models_eval(X_train_reduced,X_test_reduced,y_train,y_test)"
   ]
  },
  {
   "cell_type": "markdown",
   "id": "105498ed",
   "metadata": {},
   "source": [
    "<a name=\"6\"></a>\n",
    "## Neural Networks"
   ]
  },
  {
   "cell_type": "code",
   "execution_count": 20,
   "id": "ed46e60e",
   "metadata": {},
   "outputs": [],
   "source": [
    "X_train = X_train.astype('float32')\n",
    "y_train = y_train.astype('float32')\n",
    "X_test = X_test.astype('float32')\n",
    "y_test = y_test.astype('float32')"
   ]
  },
  {
   "cell_type": "code",
   "execution_count": 21,
   "id": "cad3caa5",
   "metadata": {},
   "outputs": [],
   "source": [
    "x_traincnn = X_train\n",
    "x_testcnn = X_test"
   ]
  },
  {
   "cell_type": "code",
   "execution_count": null,
   "id": "be68496d",
   "metadata": {},
   "outputs": [],
   "source": [
    "#x_traincnn = np.expand_dims(X_train, axis=2)\n",
    "#x_testcnn = np.expand_dims(X_test, axis=2)\n",
    "#x_traincnn.shape,x_testcnn.shape"
   ]
  },
  {
   "cell_type": "code",
   "execution_count": 22,
   "id": "043508c1",
   "metadata": {},
   "outputs": [
    {
     "name": "stdout",
     "output_type": "stream",
     "text": [
      "Model: \"sequential_1\"\n",
      "_________________________________________________________________\n",
      " Layer (type)                Output Shape              Param #   \n",
      "=================================================================\n",
      " conv1d_2 (Conv1D)           (None, 63, 128)           768       \n",
      "                                                                 \n",
      " activation_3 (Activation)   (None, 63, 128)           0         \n",
      "                                                                 \n",
      " dropout_2 (Dropout)         (None, 63, 128)           0         \n",
      "                                                                 \n",
      " max_pooling1d_1 (MaxPooling  (None, 7, 128)           0         \n",
      " 1D)                                                             \n",
      "                                                                 \n",
      " conv1d_3 (Conv1D)           (None, 7, 128)            82048     \n",
      "                                                                 \n",
      " activation_4 (Activation)   (None, 7, 128)            0         \n",
      "                                                                 \n",
      " dropout_3 (Dropout)         (None, 7, 128)            0         \n",
      "                                                                 \n",
      " flatten_1 (Flatten)         (None, 896)               0         \n",
      "                                                                 \n",
      " dense_1 (Dense)             (None, 2)                 1794      \n",
      "                                                                 \n",
      " activation_5 (Activation)   (None, 2)                 0         \n",
      "                                                                 \n",
      "=================================================================\n",
      "Total params: 84,610\n",
      "Trainable params: 84,610\n",
      "Non-trainable params: 0\n",
      "_________________________________________________________________\n"
     ]
    }
   ],
   "source": [
    "model = build_model()\n",
    "model.summary()"
   ]
  },
  {
   "cell_type": "code",
   "execution_count": 23,
   "id": "058d5996",
   "metadata": {},
   "outputs": [
    {
     "name": "stdout",
     "output_type": "stream",
     "text": [
      "Processing fold #0\n",
      "Restored model, accuracy: 90.63% loss:0.19704313576221466\n",
      "Processing fold #1\n",
      "Restored model, accuracy: 90.48% loss:0.19414302706718445\n",
      "Processing fold #2\n",
      "Restored model, accuracy: 91.23% loss:0.1871442347764969\n",
      "Processing fold #3\n",
      "Restored model, accuracy: 91.01% loss:0.19712620973587036\n",
      "451/451 [==============================] - 1s 2ms/step - loss: 0.1918 - acc: 0.9059\n",
      "Restored model, accuracy: 90.59%\n"
     ]
    }
   ],
   "source": [
    "#K-fold validation\n",
    "model,cnnhistory = k_fold(4,x_traincnn,x_testcnn,y_train,y_test)"
   ]
  },
  {
   "cell_type": "markdown",
   "id": "7880b255",
   "metadata": {},
   "source": [
    "<a name=\"7\"></a>\n",
    "## Evaluation of Neural Networks"
   ]
  },
  {
   "cell_type": "code",
   "execution_count": 24,
   "id": "c017d769",
   "metadata": {},
   "outputs": [
    {
     "data": {
      "image/png": "[encoded data removed]",
      "text/plain": [
       "<Figure size 1008x432 with 2 Axes>"
      ]
     },
     "metadata": {},
     "output_type": "display_data"
    }
   ],
   "source": [
    "plot_acc_loss(cnnhistory.history)"
   ]
  },
  {
   "cell_type": "code",
   "execution_count": 25,
   "id": "401177e0",
   "metadata": {},
   "outputs": [
    {
     "name": "stdout",
     "output_type": "stream",
     "text": [
      "Saved trained model at C:\\Users\\Burlay\\Desktop\\Jupyter_vm\\uci-bank-marketing\\models\\cnn_model.h5 \n"
     ]
    }
   ],
   "source": [
    "path_dir = os.getcwd() + '\\models\\cnn_model.h5'\n",
    "# save the model to disk\n",
    "if not os.path.isfile(path_dir):\n",
    "    model.save(path_dir)\n",
    "    print('Saved trained model at %s ' % path_dir)"
   ]
  },
  {
   "cell_type": "code",
   "execution_count": 28,
   "id": "20952316",
   "metadata": {},
   "outputs": [
    {
     "name": "stdout",
     "output_type": "stream",
     "text": [
      "WARNING:tensorflow:Error in loading the saved optimizer state. As a result, your model is starting with a freshly initialized optimizer.\n",
      "451/451 [==============================] - 1s 2ms/step\n"
     ]
    }
   ],
   "source": [
    "model_cnn = keras.models.load_model(path_dir )\n",
    "df_cnn_res = probability(x_testcnn,y_test,model_cnn)"
   ]
  },
  {
   "cell_type": "code",
   "execution_count": 29,
   "id": "d2709c92",
   "metadata": {},
   "outputs": [
    {
     "data": {
      "text/plain": [
       "<AxesSubplot:xlabel='Predicted', ylabel='count'>"
      ]
     },
     "execution_count": 29,
     "metadata": {},
     "output_type": "execute_result"
    },
    {
     "data": {
      "image/png": "[encoded data removed]",
      "text/plain": [
       "<Figure size 432x288 with 1 Axes>"
      ]
     },
     "metadata": {},
     "output_type": "display_data"
    }
   ],
   "source": [
    "sns.countplot(x='Predicted', data=df_cnn_res)"
   ]
  },
  {
   "cell_type": "code",
   "execution_count": 30,
   "id": "27c06407",
   "metadata": {},
   "outputs": [
    {
     "data": {
      "text/plain": [
       "<AxesSubplot:xlabel='Yes/No', ylabel='count'>"
      ]
     },
     "execution_count": 30,
     "metadata": {},
     "output_type": "execute_result"
    },
    {
     "data": {
      "image/png": "[encoded data removed]",
      "text/plain": [
       "<Figure size 432x288 with 1 Axes>"
      ]
     },
     "metadata": {},
     "output_type": "display_data"
    }
   ],
   "source": [
    "sns.countplot(x='Yes/No', data=df_cnn_res)"
   ]
  },
  {
   "cell_type": "code",
   "execution_count": 35,
   "id": "3d8b1a3f",
   "metadata": {},
   "outputs": [
    {
     "data": {
      "text/html": [
       "<div>\n",
       "<style scoped>\n",
       "    .dataframe tbody tr th:only-of-type {\n",
       "        vertical-align: middle;\n",
       "    }\n",
       "\n",
       "    .dataframe tbody tr th {\n",
       "        vertical-align: top;\n",
       "    }\n",
       "\n",
       "    .dataframe thead th {\n",
       "        text-align: right;\n",
       "    }\n",
       "</style>\n",
       "<table border=\"1\" class=\"dataframe\">\n",
       "  <thead>\n",
       "    <tr style=\"text-align: right;\">\n",
       "      <th></th>\n",
       "      <th>ID</th>\n",
       "      <th>Yes/No</th>\n",
       "      <th>YesProbabil</th>\n",
       "      <th>Predicted</th>\n",
       "    </tr>\n",
       "  </thead>\n",
       "  <tbody>\n",
       "    <tr>\n",
       "      <th>12</th>\n",
       "      <td>13595</td>\n",
       "      <td>1.0</td>\n",
       "      <td>0.518044</td>\n",
       "      <td>1</td>\n",
       "    </tr>\n",
       "    <tr>\n",
       "      <th>13</th>\n",
       "      <td>21871</td>\n",
       "      <td>1.0</td>\n",
       "      <td>0.261340</td>\n",
       "      <td>0</td>\n",
       "    </tr>\n",
       "    <tr>\n",
       "      <th>19</th>\n",
       "      <td>37480</td>\n",
       "      <td>1.0</td>\n",
       "      <td>0.510612</td>\n",
       "      <td>1</td>\n",
       "    </tr>\n",
       "    <tr>\n",
       "      <th>20</th>\n",
       "      <td>17267</td>\n",
       "      <td>1.0</td>\n",
       "      <td>0.560135</td>\n",
       "      <td>1</td>\n",
       "    </tr>\n",
       "    <tr>\n",
       "      <th>22</th>\n",
       "      <td>8528</td>\n",
       "      <td>1.0</td>\n",
       "      <td>0.150378</td>\n",
       "      <td>0</td>\n",
       "    </tr>\n",
       "    <tr>\n",
       "      <th>31</th>\n",
       "      <td>36562</td>\n",
       "      <td>1.0</td>\n",
       "      <td>0.317219</td>\n",
       "      <td>0</td>\n",
       "    </tr>\n",
       "    <tr>\n",
       "      <th>32</th>\n",
       "      <td>40868</td>\n",
       "      <td>1.0</td>\n",
       "      <td>0.689358</td>\n",
       "      <td>1</td>\n",
       "    </tr>\n",
       "    <tr>\n",
       "      <th>33</th>\n",
       "      <td>14050</td>\n",
       "      <td>1.0</td>\n",
       "      <td>0.437856</td>\n",
       "      <td>0</td>\n",
       "    </tr>\n",
       "    <tr>\n",
       "      <th>34</th>\n",
       "      <td>10835</td>\n",
       "      <td>1.0</td>\n",
       "      <td>0.260211</td>\n",
       "      <td>0</td>\n",
       "    </tr>\n",
       "    <tr>\n",
       "      <th>42</th>\n",
       "      <td>41020</td>\n",
       "      <td>1.0</td>\n",
       "      <td>0.678171</td>\n",
       "      <td>1</td>\n",
       "    </tr>\n",
       "    <tr>\n",
       "      <th>50</th>\n",
       "      <td>32668</td>\n",
       "      <td>1.0</td>\n",
       "      <td>0.428940</td>\n",
       "      <td>0</td>\n",
       "    </tr>\n",
       "    <tr>\n",
       "      <th>53</th>\n",
       "      <td>33789</td>\n",
       "      <td>1.0</td>\n",
       "      <td>0.326274</td>\n",
       "      <td>0</td>\n",
       "    </tr>\n",
       "    <tr>\n",
       "      <th>58</th>\n",
       "      <td>39196</td>\n",
       "      <td>1.0</td>\n",
       "      <td>0.700272</td>\n",
       "      <td>1</td>\n",
       "    </tr>\n",
       "    <tr>\n",
       "      <th>60</th>\n",
       "      <td>27101</td>\n",
       "      <td>1.0</td>\n",
       "      <td>0.232617</td>\n",
       "      <td>0</td>\n",
       "    </tr>\n",
       "    <tr>\n",
       "      <th>66</th>\n",
       "      <td>38246</td>\n",
       "      <td>1.0</td>\n",
       "      <td>0.397919</td>\n",
       "      <td>0</td>\n",
       "    </tr>\n",
       "    <tr>\n",
       "      <th>94</th>\n",
       "      <td>38324</td>\n",
       "      <td>1.0</td>\n",
       "      <td>0.134870</td>\n",
       "      <td>0</td>\n",
       "    </tr>\n",
       "    <tr>\n",
       "      <th>100</th>\n",
       "      <td>22236</td>\n",
       "      <td>1.0</td>\n",
       "      <td>0.472428</td>\n",
       "      <td>0</td>\n",
       "    </tr>\n",
       "    <tr>\n",
       "      <th>101</th>\n",
       "      <td>36852</td>\n",
       "      <td>1.0</td>\n",
       "      <td>0.377329</td>\n",
       "      <td>0</td>\n",
       "    </tr>\n",
       "    <tr>\n",
       "      <th>137</th>\n",
       "      <td>40819</td>\n",
       "      <td>1.0</td>\n",
       "      <td>0.687199</td>\n",
       "      <td>1</td>\n",
       "    </tr>\n",
       "    <tr>\n",
       "      <th>166</th>\n",
       "      <td>33666</td>\n",
       "      <td>1.0</td>\n",
       "      <td>0.297942</td>\n",
       "      <td>0</td>\n",
       "    </tr>\n",
       "    <tr>\n",
       "      <th>168</th>\n",
       "      <td>40348</td>\n",
       "      <td>1.0</td>\n",
       "      <td>0.416350</td>\n",
       "      <td>0</td>\n",
       "    </tr>\n",
       "    <tr>\n",
       "      <th>169</th>\n",
       "      <td>36547</td>\n",
       "      <td>1.0</td>\n",
       "      <td>0.630001</td>\n",
       "      <td>1</td>\n",
       "    </tr>\n",
       "    <tr>\n",
       "      <th>170</th>\n",
       "      <td>33718</td>\n",
       "      <td>1.0</td>\n",
       "      <td>0.506722</td>\n",
       "      <td>1</td>\n",
       "    </tr>\n",
       "    <tr>\n",
       "      <th>171</th>\n",
       "      <td>39440</td>\n",
       "      <td>1.0</td>\n",
       "      <td>0.392420</td>\n",
       "      <td>0</td>\n",
       "    </tr>\n",
       "    <tr>\n",
       "      <th>176</th>\n",
       "      <td>24079</td>\n",
       "      <td>1.0</td>\n",
       "      <td>0.007412</td>\n",
       "      <td>0</td>\n",
       "    </tr>\n",
       "    <tr>\n",
       "      <th>185</th>\n",
       "      <td>37330</td>\n",
       "      <td>1.0</td>\n",
       "      <td>0.506570</td>\n",
       "      <td>1</td>\n",
       "    </tr>\n",
       "    <tr>\n",
       "      <th>189</th>\n",
       "      <td>40163</td>\n",
       "      <td>1.0</td>\n",
       "      <td>0.784958</td>\n",
       "      <td>1</td>\n",
       "    </tr>\n",
       "    <tr>\n",
       "      <th>193</th>\n",
       "      <td>26938</td>\n",
       "      <td>1.0</td>\n",
       "      <td>0.608901</td>\n",
       "      <td>1</td>\n",
       "    </tr>\n",
       "    <tr>\n",
       "      <th>213</th>\n",
       "      <td>40467</td>\n",
       "      <td>1.0</td>\n",
       "      <td>0.531160</td>\n",
       "      <td>1</td>\n",
       "    </tr>\n",
       "    <tr>\n",
       "      <th>223</th>\n",
       "      <td>41100</td>\n",
       "      <td>1.0</td>\n",
       "      <td>0.765352</td>\n",
       "      <td>1</td>\n",
       "    </tr>\n",
       "  </tbody>\n",
       "</table>\n",
       "</div>"
      ],
      "text/plain": [
       "        ID  Yes/No  YesProbabil  Predicted\n",
       "12   13595     1.0     0.518044          1\n",
       "13   21871     1.0     0.261340          0\n",
       "19   37480     1.0     0.510612          1\n",
       "20   17267     1.0     0.560135          1\n",
       "22    8528     1.0     0.150378          0\n",
       "31   36562     1.0     0.317219          0\n",
       "32   40868     1.0     0.689358          1\n",
       "33   14050     1.0     0.437856          0\n",
       "34   10835     1.0     0.260211          0\n",
       "42   41020     1.0     0.678171          1\n",
       "50   32668     1.0     0.428940          0\n",
       "53   33789     1.0     0.326274          0\n",
       "58   39196     1.0     0.700272          1\n",
       "60   27101     1.0     0.232617          0\n",
       "66   38246     1.0     0.397919          0\n",
       "94   38324     1.0     0.134870          0\n",
       "100  22236     1.0     0.472428          0\n",
       "101  36852     1.0     0.377329          0\n",
       "137  40819     1.0     0.687199          1\n",
       "166  33666     1.0     0.297942          0\n",
       "168  40348     1.0     0.416350          0\n",
       "169  36547     1.0     0.630001          1\n",
       "170  33718     1.0     0.506722          1\n",
       "171  39440     1.0     0.392420          0\n",
       "176  24079     1.0     0.007412          0\n",
       "185  37330     1.0     0.506570          1\n",
       "189  40163     1.0     0.784958          1\n",
       "193  26938     1.0     0.608901          1\n",
       "213  40467     1.0     0.531160          1\n",
       "223  41100     1.0     0.765352          1"
      ]
     },
     "execution_count": 35,
     "metadata": {},
     "output_type": "execute_result"
    }
   ],
   "source": [
    "df_cnn_res[df_cnn_res['Yes/No'] >0].head(30)"
   ]
  }
 ],
 "metadata": {
  "kernelspec": {
   "display_name": "Python 3",
   "language": "python",
   "name": "python3"
  },
  "language_info": {
   "codemirror_mode": {
    "name": "ipython",
    "version": 3
   },
   "file_extension": ".py",
   "mimetype": "text/x-python",
   "name": "python",
   "nbconvert_exporter": "python",
   "pygments_lexer": "ipython3",
   "version": "3.8.7"
  }
 },
 "nbformat": 4,
 "nbformat_minor": 5
}
